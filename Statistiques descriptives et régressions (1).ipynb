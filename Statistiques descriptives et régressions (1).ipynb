{
 "cells": [
  {
   "cell_type": "code",
   "execution_count": 1,
   "id": "1b392b88",
   "metadata": {},
   "outputs": [],
   "source": [
    "import pandas as pd\n",
    "import numpy as np\n",
    "import statsmodels.api as sm\n",
    "import statsmodels.formula.api as smf\n",
    "import matplotlib.pyplot as plt\n",
    "from sklearn.linear_model import LinearRegression\n",
    "from patsy.builtins import *"
   ]
  },
  {
   "cell_type": "markdown",
   "id": "b922faef",
   "metadata": {},
   "source": [
    "# 1   Importation et jonction des bases de données"
   ]
  },
  {
   "cell_type": "code",
   "execution_count": 5,
   "id": "44195b6f",
   "metadata": {
    "scrolled": true
   },
   "outputs": [],
   "source": [
    "# Arrivées entre 2016 et 2018\n",
    "df_nb_arrive_16_18= pd.read_csv(\"./Nb_arrive_16-18.csv\",sep=\",\")\n",
    "df_nb_arrive_16_18=df_nb_arrive_16_18.rename(columns={\"P18_PMEN_ANEM0002\" :\"Arrivées\"})\n",
    "# Régresseurs\n",
    "df_reg= pd.read_csv(\"./base_regresseurs.csv\",sep=\",\")"
   ]
  },
  {
   "cell_type": "code",
   "execution_count": 14,
   "id": "d97f78a9",
   "metadata": {},
   "outputs": [],
   "source": [
    "#Jonction des bases de données\n",
    "df=pd.concat([df_nb_arrive_16_18,df_reg],axis=1)\n",
    "df=df.rename(columns={\"Chômage moyen T1_2016\" :\"Chômage\",\"Salaire Moyen\":\"Salaire\"})"
   ]
  },
  {
   "cell_type": "code",
   "execution_count": 15,
   "id": "ee30ae36",
   "metadata": {},
   "outputs": [
    {
     "data": {
      "text/html": [
       "<div>\n",
       "<style scoped>\n",
       "    .dataframe tbody tr th:only-of-type {\n",
       "        vertical-align: middle;\n",
       "    }\n",
       "\n",
       "    .dataframe tbody tr th {\n",
       "        vertical-align: top;\n",
       "    }\n",
       "\n",
       "    .dataframe thead th {\n",
       "        text-align: right;\n",
       "    }\n",
       "</style>\n",
       "<table border=\"1\" class=\"dataframe\">\n",
       "  <thead>\n",
       "    <tr style=\"text-align: right;\">\n",
       "      <th></th>\n",
       "      <th>DEP</th>\n",
       "      <th>Arrivées</th>\n",
       "      <th>NOM</th>\n",
       "      <th>Unnamed: 0</th>\n",
       "      <th>DEP</th>\n",
       "      <th>Automobile</th>\n",
       "      <th>Banque</th>\n",
       "      <th>Construction</th>\n",
       "      <th>Grande surface</th>\n",
       "      <th>Infrastructure sportive</th>\n",
       "      <th>...</th>\n",
       "      <th>Magasin de consommation</th>\n",
       "      <th>Petite surface</th>\n",
       "      <th>Sante</th>\n",
       "      <th>Tourisme</th>\n",
       "      <th>Transport</th>\n",
       "      <th>Population en 2018</th>\n",
       "      <th>Littoral</th>\n",
       "      <th>Frontiere</th>\n",
       "      <th>Salaire</th>\n",
       "      <th>Chômage</th>\n",
       "    </tr>\n",
       "  </thead>\n",
       "  <tbody>\n",
       "    <tr>\n",
       "      <th>0</th>\n",
       "      <td>01</td>\n",
       "      <td>73410.587500</td>\n",
       "      <td>Ain</td>\n",
       "      <td>0</td>\n",
       "      <td>01</td>\n",
       "      <td>1216</td>\n",
       "      <td>295</td>\n",
       "      <td>4855</td>\n",
       "      <td>158</td>\n",
       "      <td>2181</td>\n",
       "      <td>...</td>\n",
       "      <td>1089</td>\n",
       "      <td>864</td>\n",
       "      <td>2788</td>\n",
       "      <td>385</td>\n",
       "      <td>276</td>\n",
       "      <td>634390.746502</td>\n",
       "      <td>0</td>\n",
       "      <td>1</td>\n",
       "      <td>21830</td>\n",
       "      <td>7.4</td>\n",
       "    </tr>\n",
       "    <tr>\n",
       "      <th>1</th>\n",
       "      <td>02</td>\n",
       "      <td>55966.273088</td>\n",
       "      <td>Aisne</td>\n",
       "      <td>1</td>\n",
       "      <td>02</td>\n",
       "      <td>770</td>\n",
       "      <td>176</td>\n",
       "      <td>3192</td>\n",
       "      <td>161</td>\n",
       "      <td>1928</td>\n",
       "      <td>...</td>\n",
       "      <td>864</td>\n",
       "      <td>693</td>\n",
       "      <td>2297</td>\n",
       "      <td>196</td>\n",
       "      <td>204</td>\n",
       "      <td>522698.340670</td>\n",
       "      <td>0</td>\n",
       "      <td>1</td>\n",
       "      <td>20230</td>\n",
       "      <td>13.9</td>\n",
       "    </tr>\n",
       "    <tr>\n",
       "      <th>2</th>\n",
       "      <td>03</td>\n",
       "      <td>34727.220529</td>\n",
       "      <td>Allier</td>\n",
       "      <td>2</td>\n",
       "      <td>03</td>\n",
       "      <td>591</td>\n",
       "      <td>191</td>\n",
       "      <td>2343</td>\n",
       "      <td>108</td>\n",
       "      <td>1153</td>\n",
       "      <td>...</td>\n",
       "      <td>850</td>\n",
       "      <td>654</td>\n",
       "      <td>1794</td>\n",
       "      <td>258</td>\n",
       "      <td>137</td>\n",
       "      <td>326606.968718</td>\n",
       "      <td>0</td>\n",
       "      <td>0</td>\n",
       "      <td>19390</td>\n",
       "      <td>10.8</td>\n",
       "    </tr>\n",
       "    <tr>\n",
       "      <th>3</th>\n",
       "      <td>04</td>\n",
       "      <td>20764.972228</td>\n",
       "      <td>Alpes-de-Haute-Provence</td>\n",
       "      <td>3</td>\n",
       "      <td>04</td>\n",
       "      <td>348</td>\n",
       "      <td>97</td>\n",
       "      <td>1977</td>\n",
       "      <td>53</td>\n",
       "      <td>607</td>\n",
       "      <td>...</td>\n",
       "      <td>549</td>\n",
       "      <td>421</td>\n",
       "      <td>1194</td>\n",
       "      <td>329</td>\n",
       "      <td>86</td>\n",
       "      <td>160093.628693</td>\n",
       "      <td>0</td>\n",
       "      <td>1</td>\n",
       "      <td>19180</td>\n",
       "      <td>11.6</td>\n",
       "    </tr>\n",
       "    <tr>\n",
       "      <th>4</th>\n",
       "      <td>05</td>\n",
       "      <td>17542.794466</td>\n",
       "      <td>Hautes-Alpes</td>\n",
       "      <td>4</td>\n",
       "      <td>05</td>\n",
       "      <td>285</td>\n",
       "      <td>98</td>\n",
       "      <td>1523</td>\n",
       "      <td>46</td>\n",
       "      <td>979</td>\n",
       "      <td>...</td>\n",
       "      <td>675</td>\n",
       "      <td>399</td>\n",
       "      <td>1168</td>\n",
       "      <td>415</td>\n",
       "      <td>99</td>\n",
       "      <td>136519.254989</td>\n",
       "      <td>0</td>\n",
       "      <td>1</td>\n",
       "      <td>17690</td>\n",
       "      <td>9.4</td>\n",
       "    </tr>\n",
       "  </tbody>\n",
       "</table>\n",
       "<p>5 rows × 21 columns</p>\n",
       "</div>"
      ],
      "text/plain": [
       "  DEP      Arrivées                      NOM  Unnamed: 0 DEP  Automobile  \\\n",
       "0  01  73410.587500                      Ain           0  01        1216   \n",
       "1  02  55966.273088                    Aisne           1  02         770   \n",
       "2  03  34727.220529                   Allier           2  03         591   \n",
       "3  04  20764.972228  Alpes-de-Haute-Provence           3  04         348   \n",
       "4  05  17542.794466             Hautes-Alpes           4  05         285   \n",
       "\n",
       "   Banque  Construction  Grande surface  Infrastructure sportive  ...  \\\n",
       "0     295          4855             158                     2181  ...   \n",
       "1     176          3192             161                     1928  ...   \n",
       "2     191          2343             108                     1153  ...   \n",
       "3      97          1977              53                      607  ...   \n",
       "4      98          1523              46                      979  ...   \n",
       "\n",
       "   Magasin de consommation  Petite surface  Sante  Tourisme  Transport  \\\n",
       "0                     1089             864   2788       385        276   \n",
       "1                      864             693   2297       196        204   \n",
       "2                      850             654   1794       258        137   \n",
       "3                      549             421   1194       329         86   \n",
       "4                      675             399   1168       415         99   \n",
       "\n",
       "   Population en 2018  Littoral  Frontiere  Salaire  Chômage  \n",
       "0       634390.746502         0          1    21830      7.4  \n",
       "1       522698.340670         0          1    20230     13.9  \n",
       "2       326606.968718         0          0    19390     10.8  \n",
       "3       160093.628693         0          1    19180     11.6  \n",
       "4       136519.254989         0          1    17690      9.4  \n",
       "\n",
       "[5 rows x 21 columns]"
      ]
     },
     "execution_count": 15,
     "metadata": {},
     "output_type": "execute_result"
    }
   ],
   "source": [
    "df.head()"
   ]
  },
  {
   "cell_type": "markdown",
   "id": "04eb0873",
   "metadata": {},
   "source": [
    "# 2 Effets du marché du travail sur l'attractivité du territoire"
   ]
  },
  {
   "cell_type": "markdown",
   "id": "019d8d1f",
   "metadata": {},
   "source": [
    "## 2.1 Taux de chômage"
   ]
  },
  {
   "cell_type": "code",
   "execution_count": 16,
   "id": "fe745fa2",
   "metadata": {},
   "outputs": [
    {
     "data": {
      "image/png": "[encoded data removed]",
      "text/plain": [
       "<Figure size 432x288 with 1 Axes>"
      ]
     },
     "metadata": {
      "needs_background": "light"
     },
     "output_type": "display_data"
    }
   ],
   "source": [
    "X=df[\"Chômage\"].values.reshape(-1, 1)\n",
    "Y=df[\"Arrivées\"].values.reshape(-1, 1)\n",
    "linear_regressor = LinearRegression()\n",
    "linear_regressor.fit(X, Y)\n",
    "Y_pred = linear_regressor.predict(X)\n",
    "plt.scatter(X, Y)\n",
    "plt.plot(X, Y_pred, color='red')\n",
    "plt.xlabel(\"Taux de chômage départemental au dernier semestre 2015 (en %)\")\n",
    "plt.ylabel(\"Nombre d'arrivées dans le département entre 2016 et 2018\")\n",
    "plt.show()"
   ]
  },
  {
   "cell_type": "markdown",
   "id": "c6bc9f6d",
   "metadata": {},
   "source": [
    "Le taux de chômage départemental fin 2015 ne semble pas avoir un effet significatif sur les arrivées dans le département pendant les deux années qui suivent, ce que confirme la régression ci-dessous."
   ]
  },
  {
   "cell_type": "code",
   "execution_count": 17,
   "id": "1f810bf8",
   "metadata": {},
   "outputs": [
    {
     "name": "stdout",
     "output_type": "stream",
     "text": [
      "                            OLS Regression Results                            \n",
      "==============================================================================\n",
      "Dep. Variable:               Arrivées   R-squared:                       0.000\n",
      "Model:                            OLS   Adj. R-squared:                 -0.010\n",
      "Method:                 Least Squares   F-statistic:                   0.01531\n",
      "Date:                Thu, 06 Jan 2022   Prob (F-statistic):              0.902\n",
      "Time:                        19:44:01   Log-Likelihood:                -1222.4\n",
      "No. Observations:                  96   AIC:                             2449.\n",
      "Df Residuals:                      94   BIC:                             2454.\n",
      "Df Model:                           1                                         \n",
      "Covariance Type:            nonrobust                                         \n",
      "==============================================================================\n",
      "                 coef    std err          t      P>|t|      [0.025      0.975]\n",
      "------------------------------------------------------------------------------\n",
      "Intercept   7.642e+04   4.87e+04      1.570      0.120   -2.03e+04    1.73e+05\n",
      "Chômage      598.7940   4838.685      0.124      0.902   -9008.528    1.02e+04\n",
      "==============================================================================\n",
      "Omnibus:                       88.306   Durbin-Watson:                   1.810\n",
      "Prob(Omnibus):                  0.000   Jarque-Bera (JB):              775.245\n",
      "Skew:                           3.007   Prob(JB):                    4.55e-169\n",
      "Kurtosis:                      15.556   Cond. No.                         58.5\n",
      "==============================================================================\n",
      "\n",
      "Notes:\n",
      "[1] Standard Errors assume that the covariance matrix of the errors is correctly specified.\n"
     ]
    }
   ],
   "source": [
    "fit=smf.ols(formula=\"Arrivées ~ Chômage\", data=df).fit()\n",
    "print(fit.summary())"
   ]
  },
  {
   "cell_type": "markdown",
   "id": "cf13db72",
   "metadata": {},
   "source": [
    "## 2.2 Salaire moyen"
   ]
  },
  {
   "cell_type": "code",
   "execution_count": 18,
   "id": "8ca1cab3",
   "metadata": {},
   "outputs": [
    {
     "data": {
      "image/png": "[encoded data removed]",
      "text/plain": [
       "<Figure size 432x288 with 1 Axes>"
      ]
     },
     "metadata": {
      "needs_background": "light"
     },
     "output_type": "display_data"
    }
   ],
   "source": [
    "X=df[\"Salaire\"].values.reshape(-1, 1)\n",
    "Y=df[\"Arrivées\"].values.reshape(-1, 1)\n",
    "linear_regressor = LinearRegression()\n",
    "linear_regressor.fit(X, Y)\n",
    "Y_pred = linear_regressor.predict(X)\n",
    "plt.scatter(X, Y)\n",
    "plt.plot(X, Y_pred, color='red')\n",
    "plt.xlabel(\"Salaire annuel moyen dans le département en 2017 (en €)\")\n",
    "plt.ylabel(\"Nombre d'arrivées dans le département entre 2016 et 2018\")\n",
    "plt.show()"
   ]
  },
  {
   "cell_type": "markdown",
   "id": "cccb80ce",
   "metadata": {},
   "source": [
    "Le salaire moyen a lui un impact bien plus significatif, les territoires où il est plus élevé étant logiquement plus attractifs."
   ]
  },
  {
   "cell_type": "code",
   "execution_count": 19,
   "id": "d6697c4d",
   "metadata": {},
   "outputs": [
    {
     "name": "stdout",
     "output_type": "stream",
     "text": [
      "                            OLS Regression Results                            \n",
      "==============================================================================\n",
      "Dep. Variable:               Arrivées   R-squared:                       0.429\n",
      "Model:                            OLS   Adj. R-squared:                  0.423\n",
      "Method:                 Least Squares   F-statistic:                     70.68\n",
      "Date:                Thu, 06 Jan 2022   Prob (F-statistic):           4.43e-13\n",
      "Time:                        19:44:19   Log-Likelihood:                -1195.5\n",
      "No. Observations:                  96   AIC:                             2395.\n",
      "Df Residuals:                      94   BIC:                             2400.\n",
      "Df Model:                           1                                         \n",
      "Covariance Type:            nonrobust                                         \n",
      "==============================================================================\n",
      "                 coef    std err          t      P>|t|      [0.025      0.975]\n",
      "------------------------------------------------------------------------------\n",
      "Intercept  -2.716e+05   4.26e+04     -6.378      0.000   -3.56e+05   -1.87e+05\n",
      "Salaire       16.7846      1.996      8.407      0.000      12.821      20.748\n",
      "==============================================================================\n",
      "Omnibus:                       41.146   Durbin-Watson:                   1.998\n",
      "Prob(Omnibus):                  0.000   Jarque-Bera (JB):              120.937\n",
      "Skew:                           1.470   Prob(JB):                     5.48e-27\n",
      "Kurtosis:                       7.646   Cond. No.                     1.42e+05\n",
      "==============================================================================\n",
      "\n",
      "Notes:\n",
      "[1] Standard Errors assume that the covariance matrix of the errors is correctly specified.\n",
      "[2] The condition number is large, 1.42e+05. This might indicate that there are\n",
      "strong multicollinearity or other numerical problems.\n"
     ]
    }
   ],
   "source": [
    "fit=smf.ols(formula=\"Arrivées ~ Salaire\", data=df).fit()\n",
    "print(fit.summary())"
   ]
  },
  {
   "cell_type": "markdown",
   "id": "631ed253",
   "metadata": {},
   "source": [
    "# 3 Effets des infrastructures sur l'attractivité du territoire"
   ]
  },
  {
   "cell_type": "code",
   "execution_count": 20,
   "id": "7dcad092",
   "metadata": {},
   "outputs": [
    {
     "name": "stdout",
     "output_type": "stream",
     "text": [
      "                            OLS Regression Results                            \n",
      "==============================================================================\n",
      "Dep. Variable:               Arrivées   R-squared:                       0.971\n",
      "Model:                            OLS   Adj. R-squared:                  0.967\n",
      "Method:                 Least Squares   F-statistic:                     256.5\n",
      "Date:                Thu, 06 Jan 2022   Prob (F-statistic):           1.05e-59\n",
      "Time:                        19:44:22   Log-Likelihood:                -1052.4\n",
      "No. Observations:                  96   AIC:                             2129.\n",
      "Df Residuals:                      84   BIC:                             2159.\n",
      "Df Model:                          11                                         \n",
      "Covariance Type:            nonrobust                                         \n",
      "================================================================================================\n",
      "                                   coef    std err          t      P>|t|      [0.025      0.975]\n",
      "------------------------------------------------------------------------------------------------\n",
      "Intercept                     1310.3102   5998.660      0.218      0.828   -1.06e+04    1.32e+04\n",
      "Automobile                      -7.9786     11.105     -0.718      0.474     -30.063      14.106\n",
      "Banque                         125.1572     32.228      3.884      0.000      61.069     189.245\n",
      "Construction                    -2.2148      2.257     -0.981      0.329      -6.704       2.274\n",
      "Q('Grande surface')            -31.0297     75.244     -0.412      0.681    -180.662     118.602\n",
      "Q('Infrastructure sportive')    -1.2311      5.477     -0.225      0.823     -12.124       9.661\n",
      "Justice                         94.3739    235.372      0.401      0.689    -373.690     562.438\n",
      "Q('Magasin de consommation')    26.9649      6.206      4.345      0.000      14.624      39.306\n",
      "Q('Petite surface')              3.9286     12.813      0.307      0.760     -21.551      29.409\n",
      "Sante                            7.9700      2.229      3.575      0.001       3.537      12.403\n",
      "Tourisme                       -48.6277     14.168     -3.432      0.001     -76.803     -20.453\n",
      "Transport                       13.6590      6.128      2.229      0.028       1.473      25.845\n",
      "==============================================================================\n",
      "Omnibus:                       39.967   Durbin-Watson:                   2.210\n",
      "Prob(Omnibus):                  0.000   Jarque-Bera (JB):              467.074\n",
      "Skew:                           0.802   Prob(JB):                    3.77e-102\n",
      "Kurtosis:                      13.686   Cond. No.                     3.61e+04\n",
      "==============================================================================\n",
      "\n",
      "Notes:\n",
      "[1] Standard Errors assume that the covariance matrix of the errors is correctly specified.\n",
      "[2] The condition number is large, 3.61e+04. This might indicate that there are\n",
      "strong multicollinearity or other numerical problems.\n"
     ]
    }
   ],
   "source": [
    "fit=smf.ols(formula=\"Arrivées ~ Automobile + Banque + Construction + Q('Grande surface') + Q('Infrastructure sportive') + Justice + Q('Magasin de consommation') + Q('Petite surface')  + Sante + Tourisme + Transport\", data=df).fit()\n",
    "print(fit.summary())"
   ]
  },
  {
   "cell_type": "markdown",
   "id": "8559b58b",
   "metadata": {},
   "source": [
    "Tous les types d'infrastructures n'ont pas un effet significatif sur les arrivées dans le département. On peut s'étonner de voir que ce sont les infrastructures bancaires qui augmentent le plus l'attractivité du territoire, ou que les magasins de consommation aient un effet significatif mais pas les grandes ou petites surfaces. On comprend mieux que la présence d'équipements en santé et en transport incite les gens à s'installer dans le département. Enfin, l'effet négatif des infrastructures touristiques peut s'expliquer par le fait qu'un département très touristique peut avoir tendance à moins attirer de résidents permanents."
   ]
  },
  {
   "cell_type": "markdown",
   "id": "b983c85a",
   "metadata": {},
   "source": [
    "# 4 Effets de la situation géographique du département (littoraux et frontières)"
   ]
  },
  {
   "cell_type": "code",
   "execution_count": 21,
   "id": "ccf6b103",
   "metadata": {},
   "outputs": [
    {
     "data": {
      "text/plain": [
       "1.6193542356689752"
      ]
     },
     "execution_count": 21,
     "metadata": {},
     "output_type": "execute_result"
    }
   ],
   "source": [
    "(df[df[\"Littoral\"]==1][\"Arrivées\"].mean())/df[df[\"Littoral\"]==0][\"Arrivées\"].mean()"
   ]
  },
  {
   "cell_type": "markdown",
   "id": "bb27526b",
   "metadata": {},
   "source": [
    "On constate qu'en moyenne, un département situé sur le littoral a eu 62% d'arrivées supplémentaires entre 2016 et 2018 qu'un département intérieur."
   ]
  },
  {
   "cell_type": "code",
   "execution_count": 22,
   "id": "215e8e70",
   "metadata": {},
   "outputs": [
    {
     "data": {
      "text/plain": [
       "0.9088878835026017"
      ]
     },
     "execution_count": 22,
     "metadata": {},
     "output_type": "execute_result"
    }
   ],
   "source": [
    "(df[df[\"Frontiere\"]==1][\"Arrivées\"].mean())/df[df[\"Frontiere\"]==0][\"Arrivées\"].mean()"
   ]
  },
  {
   "cell_type": "markdown",
   "id": "441c97cf",
   "metadata": {},
   "source": [
    "À l'inverse, les départements frontaliers ont reçu 9% d'arrivées en moins que les autres départements en moyenne. On a alors vérifié ces effets géographiques par une régression."
   ]
  },
  {
   "cell_type": "code",
   "execution_count": 23,
   "id": "2c6fb3be",
   "metadata": {},
   "outputs": [
    {
     "name": "stdout",
     "output_type": "stream",
     "text": [
      "                            OLS Regression Results                            \n",
      "==============================================================================\n",
      "Dep. Variable:               Arrivées   R-squared:                       0.056\n",
      "Model:                            OLS   Adj. R-squared:                  0.036\n",
      "Method:                 Least Squares   F-statistic:                     2.768\n",
      "Date:                Thu, 06 Jan 2022   Prob (F-statistic):             0.0680\n",
      "Time:                        19:44:35   Log-Likelihood:                -1219.7\n",
      "No. Observations:                  96   AIC:                             2445.\n",
      "Df Residuals:                      93   BIC:                             2453.\n",
      "Df Model:                           2                                         \n",
      "Covariance Type:            nonrobust                                         \n",
      "==============================================================================\n",
      "                 coef    std err          t      P>|t|      [0.025      0.975]\n",
      "------------------------------------------------------------------------------\n",
      "Intercept    7.12e+04   1.09e+04      6.513      0.000    4.95e+04    9.29e+04\n",
      "Littoral     4.34e+04   1.87e+04      2.320      0.023    6254.920    8.06e+04\n",
      "Frontiere  -2650.9253   1.98e+04     -0.134      0.894   -4.19e+04    3.66e+04\n",
      "==============================================================================\n",
      "Omnibus:                       96.539   Durbin-Watson:                   1.770\n",
      "Prob(Omnibus):                  0.000   Jarque-Bera (JB):             1082.406\n",
      "Skew:                           3.285   Prob(JB):                    9.09e-236\n",
      "Kurtosis:                      18.081   Cond. No.                         2.82\n",
      "==============================================================================\n",
      "\n",
      "Notes:\n",
      "[1] Standard Errors assume that the covariance matrix of the errors is correctly specified.\n"
     ]
    }
   ],
   "source": [
    "fit=smf.ols(formula=\"Arrivées ~ Littoral + Frontiere\", data=df).fit()\n",
    "print(fit.summary())"
   ]
  },
  {
   "cell_type": "markdown",
   "id": "f6f565a8",
   "metadata": {},
   "source": [
    "La régression confirme la première constatation : les littoraux ont un effet attractif significatif. Cependant, elle révèle également que la différence entre départements frontaliers et non frontaliers n'est pas interprétable."
   ]
  }
 ],
 "metadata": {
  "kernelspec": {
   "display_name": "Python 3 (ipykernel)",
   "language": "python",
   "name": "python3"
  },
  "language_info": {
   "codemirror_mode": {
    "name": "ipython",
    "version": 3
   },
   "file_extension": ".py",
   "mimetype": "text/x-python",
   "name": "python",
   "nbconvert_exporter": "python",
   "pygments_lexer": "ipython3",
   "version": "3.8.5"
  }
 },
 "nbformat": 4,
 "nbformat_minor": 5
}
