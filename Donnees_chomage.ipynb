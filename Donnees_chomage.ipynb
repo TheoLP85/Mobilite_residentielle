{
 "cells": [
  {
   "cell_type": "code",
   "execution_count": 35,
   "id": "b23a9555",
   "metadata": {},
   "outputs": [],
   "source": [
    "import numpy as np\n",
    "import pandas as pd\n",
    "import matplotlib.pyplot as plt"
   ]
  },
  {
   "cell_type": "code",
   "execution_count": 44,
   "id": "97778d30",
   "metadata": {},
   "outputs": [],
   "source": [
    "df = pd.read_csv(\"./chomage_dep.csv\", sep = \";\", low_memory=False)\n",
    "# On ne prends les données de chômage que de 2016 en lien avec la variable du nombre d'arrivée entre 2016 et 2018 par département\n",
    "df2 = df[[\"Code\", \"T1_2016\"]]\n",
    "df_chomage_2016 = df2.rename(columns = {\"Code\" : \"DEP\", \"T1_2016\" : \"Chomage\"}).set_index(\"DEP\")\n",
    "df_chomage_2016.to_csv(r'./chomage_2016.csv')\n"
   ]
  }
 ],
 "metadata": {
  "kernelspec": {
   "display_name": "Python 3",
   "language": "python",
   "name": "python3"
  },
  "language_info": {
   "codemirror_mode": {
    "name": "ipython",
    "version": 3
   },
   "file_extension": ".py",
   "mimetype": "text/x-python",
   "name": "python",
   "nbconvert_exporter": "python",
   "pygments_lexer": "ipython3",
   "version": "3.8.5"
  }
 },
 "nbformat": 4,
 "nbformat_minor": 5
}
